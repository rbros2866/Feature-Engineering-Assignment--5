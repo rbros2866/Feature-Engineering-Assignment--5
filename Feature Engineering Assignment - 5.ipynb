{
 "cells": [
  {
   "cell_type": "markdown",
   "metadata": {},
   "source": [
    "**Q1.** Pearson correlation coefficient is a measure of the linear relationship between two variables. Suppose\n",
    "you have collected data on the amount of time students spend studying for an exam and their final exam\n",
    "scores. Calculate the Pearson correlation coefficient between these two variables and interpret the result."
   ]
  },
  {
   "cell_type": "code",
   "execution_count": 2,
   "metadata": {},
   "outputs": [
    {
     "name": "stdout",
     "output_type": "stream",
     "text": [
      "Pearson Correlation Coefficient: 0.8928436656664787\n"
     ]
    }
   ],
   "source": [
    "import numpy as np\n",
    "\n",
    "# Sample data\n",
    "time_spent_studying = [5, 7, 3, 6, 4]\n",
    "exam_scores = [80, 85, 60, 90, 75]\n",
    "\n",
    "# Calculate the Pearson correlation coefficient\n",
    "correlation_coefficient = np.corrcoef(time_spent_studying, exam_scores)[0][1]\n",
    "\n",
    "print(f\"Pearson Correlation Coefficient: {correlation_coefficient}\")\n"
   ]
  },
  {
   "cell_type": "markdown",
   "metadata": {},
   "source": [
    "The Pearson correlation coefficient ranges between -1 and 1, indicating the strength and direction of the linear relationship between the two variables:\n",
    "\n",
    "**A value close to 1 indicates a strong positive linear relationship: As the amount of time spent studying increases, the final exam scores tend to increase as well.**\n",
    "\n",
    "A value close to -1 indicates a strong negative linear relationship: As the amount of time spent studying increases, the final exam scores tend to decrease.\n",
    "\n",
    "A value around 0 suggests a weak or no linear relationship between the variables."
   ]
  },
  {
   "cell_type": "markdown",
   "metadata": {},
   "source": [
    "**Q2.** Spearman's rank correlation is a measure of the monotonic relationship between two variables.\n",
    "Suppose you have collected data on the amount of sleep individuals get each night and their overall job\n",
    "satisfaction level on a scale of 1 to 10. Calculate the Spearman's rank correlation between these two\n",
    "variables and interpret the result."
   ]
  },
  {
   "cell_type": "code",
   "execution_count": 4,
   "metadata": {},
   "outputs": [
    {
     "name": "stdout",
     "output_type": "stream",
     "text": [
      "Spearman's Rank Correlation Coefficient: 0.8207826816681234\n"
     ]
    }
   ],
   "source": [
    "from scipy.stats import spearmanr\n",
    "\n",
    "# Sample data\n",
    "amount_of_sleep = [7, 5, 6, 8, 6]\n",
    "job_satisfaction = [8, 6, 5, 9, 7]\n",
    "\n",
    "# Calculate Spearman's rank correlation coefficient\n",
    "correlation_coefficient, p_value = spearmanr(amount_of_sleep, job_satisfaction)\n",
    "\n",
    "print(f\"Spearman's Rank Correlation Coefficient: {correlation_coefficient}\")\n"
   ]
  },
  {
   "cell_type": "markdown",
   "metadata": {},
   "source": [
    "Spearman's rank correlation coefficient ranges between -1 and 1, similar to Pearson's correlation coefficient. However, Spearman's correlation measures the strength and direction of the monotonic relationship between variables:\n",
    "\n",
    "**A value close to 1 indicates a strong positive monotonic relationship: As one variable increases, the other tends to increase as well (but not necessarily at a constant rate).**\n",
    "\n",
    "A value close to -1 indicates a strong negative monotonic relationship: As one variable increases, the other tends to decrease.\n",
    "\n",
    "A value around 0 suggests a weak or no monotonic relationship between the variables."
   ]
  },
  {
   "cell_type": "markdown",
   "metadata": {},
   "source": [
    "**Q3.** Suppose you are conducting a study to examine the relationship between the number of hours of\n",
    "exercise per week and body mass index (BMI) in a sample of adults. You collected data on both variables\n",
    "for 50 participants. Calculate the Pearson correlation coefficient and the Spearman's rank correlation\n",
    "between these two variables and compare the results."
   ]
  },
  {
   "cell_type": "code",
   "execution_count": 5,
   "metadata": {},
   "outputs": [
    {
     "name": "stdout",
     "output_type": "stream",
     "text": [
      "Pearson Correlation Coefficient: 0.9682254584600943\n",
      "Spearman's Rank Correlation Coefficient: 0.9710908137818507\n"
     ]
    }
   ],
   "source": [
    "import numpy as np\n",
    "from scipy.stats import pearsonr, spearmanr\n",
    "\n",
    "# Sample data:\n",
    "exercise_hours = [3, 5, 2, 4, 6, 1, 2, 5, 3, 4,\n",
    "                  2, 6, 3, 4, 5, 2, 3, 4, 5, 6,\n",
    "                  1, 3, 4, 2, 5, 6, 3, 4, 2, 1,\n",
    "                  4, 5, 2, 3, 6, 4, 1, 2, 5, 3,\n",
    "                  6, 3, 4, 2, 5, 1, 2, 4, 3, 6]\n",
    "\n",
    "bmi = [22, 25, 21, 24, 26, 20, 23, 27, 22, 25,\n",
    "       21, 26, 23, 24, 25, 21, 22, 24, 25, 27,\n",
    "       20, 22, 24, 21, 26, 28, 23, 25, 21, 20,\n",
    "       24, 26, 21, 23, 27, 24, 20, 22, 26, 23,\n",
    "       27, 22, 24, 21, 26, 20, 22, 24, 23, 27]\n",
    "\n",
    "# Calculate Pearson correlation coefficient\n",
    "pearson_corr, _ = pearsonr(exercise_hours, bmi)\n",
    "\n",
    "# Calculate Spearman's rank correlation coefficient\n",
    "spearman_corr, _ = spearmanr(exercise_hours, bmi)\n",
    "\n",
    "print(f\"Pearson Correlation Coefficient: {pearson_corr}\")\n",
    "print(f\"Spearman's Rank Correlation Coefficient: {spearman_corr}\")\n"
   ]
  },
  {
   "cell_type": "markdown",
   "metadata": {},
   "source": [
    "The Pearson correlation coefficient measures the linear relationship between two variables, assuming a linear association between exercise hours and BMI.\n",
    "\n",
    "The Spearman's rank correlation assesses the monotonic relationship between the two variables, based on the rank order."
   ]
  },
  {
   "cell_type": "markdown",
   "metadata": {},
   "source": [
    "**If the Pearson correlation coefficient and Spearman's rank correlation are close to each other, it suggests a linear relationship between exercise hours and BMI.**\n",
    "\n",
    "**If the Pearson correlation coefficient is high (close to 1 or -1) and the Spearman's rank correlation is also high, it indicates a strong monotonic relationship, but not necessarily strictly linear.**\n",
    "\n",
    "If the Pearson correlation coefficient is high, but the Spearman's rank correlation is low, it suggests a nonlinear relationship but possibly a strong linear one.\n",
    "\n",
    "A low value for both coefficients indicates a weak relationship between exercise hours and BMI."
   ]
  },
  {
   "cell_type": "markdown",
   "metadata": {},
   "source": [
    "**Q4.** A researcher is interested in examining the relationship between the number of hours individuals\n",
    "spend watching television per day and their level of physical activity. The researcher collected data on\n",
    "both variables from a sample of 50 participants. Calculate the Pearson correlation coefficient between\n",
    "these two variables."
   ]
  },
  {
   "cell_type": "code",
   "execution_count": 6,
   "metadata": {},
   "outputs": [
    {
     "name": "stdout",
     "output_type": "stream",
     "text": [
      "Pearson Correlation Coefficient: 0.9754872197120092\n"
     ]
    }
   ],
   "source": [
    "import numpy as np\n",
    "from scipy.stats import pearsonr\n",
    "\n",
    "# Sample data:\n",
    "tv_hours = [2, 3, 1, 4, 2, 3, 2, 5, 1, 3,\n",
    "            2, 4, 1, 2, 3, 4, 2, 3, 1, 5,\n",
    "            2, 3, 2, 4, 1, 3, 2, 5, 2, 3,\n",
    "            1, 4, 2, 3, 2, 5, 1, 3, 2, 4,\n",
    "            1, 2, 3, 4, 2, 3, 1, 5, 2, 3]\n",
    "\n",
    "physical_activity_level = [3, 4, 2, 5, 3, 4, 3, 5, 2, 4,\n",
    "                           3, 5, 2, 3, 4, 5, 3, 4, 2, 5,\n",
    "                           3, 4, 3, 5, 2, 4, 3, 5, 3, 4,\n",
    "                           2, 5, 3, 4, 3, 5, 2, 4, 3, 5,\n",
    "                           2, 3, 4, 5, 3, 4, 2, 5, 3, 4]\n",
    "\n",
    "# Calculate Pearson correlation coefficient\n",
    "pearson_corr, _ = pearsonr(tv_hours, physical_activity_level)\n",
    "\n",
    "print(f\"Pearson Correlation Coefficient: {pearson_corr}\")\n"
   ]
  },
  {
   "cell_type": "markdown",
   "metadata": {},
   "source": [
    "A positive correlation close to 1 suggests that as the number of hours spent watching TV increases, the level of physical activity tends to increase as well.\n",
    "\n",
    "A negative correlation close to -1 suggests that as the number of hours spent watching TV increases, the level of physical activity tends to decrease.\n",
    "\n",
    "A correlation close to 0 indicates a weak or no linear relationship between the variables."
   ]
  },
  {
   "cell_type": "markdown",
   "metadata": {},
   "source": [
    "**Q5.** A survey was conducted to examine the relationship between age and preference for a particular\n",
    "brand of soft drink."
   ]
  },
  {
   "cell_type": "code",
   "execution_count": 11,
   "metadata": {},
   "outputs": [
    {
     "name": "stdout",
     "output_type": "stream",
     "text": [
      "Pearson Correlation Coefficient: 0.7587035441865058\n"
     ]
    },
    {
     "data": {
      "text/plain": [
       "<Axes: xlabel='Age', ylabel='Preference Code'>"
      ]
     },
     "execution_count": 11,
     "metadata": {},
     "output_type": "execute_result"
    },
    {
     "data": {
      "image/png": "[encoded data removed]",
      "text/plain": [
       "<Figure size 640x480 with 1 Axes>"
      ]
     },
     "metadata": {},
     "output_type": "display_data"
    }
   ],
   "source": [
    "import pandas as pd\n",
    "import seaborn as sns\n",
    "\n",
    "# Creating a DataFrame with the provided data\n",
    "data = {\n",
    "    'Age': [25, 42, 37, 19, 31, 28],\n",
    "    'Soft Drink Preference': ['Coke', 'Pepsi', 'Mountain Dew', 'Coke', 'Pepsi', 'Coke']\n",
    "}\n",
    "\n",
    "df = pd.DataFrame(data)\n",
    "\n",
    "# Mapping the preferences to numerical values for correlation calculation\n",
    "preference_mapping = {'Coke': 1, 'Pepsi': 2, 'Mountain Dew': 3}\n",
    "df['Preference Code'] = df['Soft Drink Preference'].map(preference_mapping)\n",
    "\n",
    "# Calculating correlation between Age and Preference Code\n",
    "correlation = df['Age'].corr(df['Preference Code'])\n",
    "\n",
    "print(f\"Pearson Correlation Coefficient: {correlation}\")\n",
    "\n",
    "sns.scatterplot(data=df, x='Age', y='Preference Code', hue='Soft Drink Preference')\n"
   ]
  },
  {
   "cell_type": "markdown",
   "metadata": {},
   "source": [
    "**Q6.** A company is interested in examining the relationship between the number of sales calls made per day\n",
    "and the number of sales made per week. The company collected data on both variables from a sample of\n",
    "30 sales representatives. Calculate the Pearson correlation coefficient between these two variables."
   ]
  },
  {
   "cell_type": "code",
   "execution_count": 12,
   "metadata": {},
   "outputs": [
    {
     "name": "stdout",
     "output_type": "stream",
     "text": [
      "Pearson Correlation Coefficient: 0.9780716009139039\n"
     ]
    }
   ],
   "source": [
    "import numpy as np\n",
    "\n",
    "# Sample data: Number of sales calls made per day and number of sales made per week\n",
    "sales_calls_per_day = [10, 12, 8, 15, 11, 9, 13, 14, 10, 12,\n",
    "                       11, 9, 13, 14, 10, 12, 8, 15, 11, 9,\n",
    "                       13, 14, 10, 12, 11, 9, 13, 14, 10, 12]\n",
    "\n",
    "sales_per_week = [50, 60, 40, 70, 55, 45, 65, 75, 50, 60,\n",
    "                   55, 45, 65, 75, 50, 60, 40, 70, 55, 45,\n",
    "                   65, 75, 50, 60, 55, 45, 65, 75, 50, 60]\n",
    "\n",
    "# Calculate Pearson correlation coefficient\n",
    "correlation_coefficient = np.corrcoef(sales_calls_per_day, sales_per_week)[0][1]\n",
    "\n",
    "print(f\"Pearson Correlation Coefficient: {correlation_coefficient}\")\n"
   ]
  },
  {
   "cell_type": "markdown",
   "metadata": {},
   "source": [
    "A Pearson correlation coefficient of approximately 0.978 indicates a very strong positive linear relationship between the number of sales calls made per day and the number of sales made per week among the sales representatives.\n",
    "\n",
    "This high value close to 1 suggests that there's a strong tendency that as the number of sales calls made per day increases, the number of sales made per week also tends to increase linearly among the sales representatives."
   ]
  },
  {
   "cell_type": "code",
   "execution_count": null,
   "metadata": {},
   "outputs": [],
   "source": []
  }
 ],
 "metadata": {
  "kernelspec": {
   "display_name": "Python 3",
   "language": "python",
   "name": "python3"
  },
  "language_info": {
   "codemirror_mode": {
    "name": "ipython",
    "version": 3
   },
   "file_extension": ".py",
   "mimetype": "text/x-python",
   "name": "python",
   "nbconvert_exporter": "python",
   "pygments_lexer": "ipython3",
   "version": "3.11.1"
  }
 },
 "nbformat": 4,
 "nbformat_minor": 2
}
